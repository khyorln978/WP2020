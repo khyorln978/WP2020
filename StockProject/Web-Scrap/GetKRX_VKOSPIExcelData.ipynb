{
 "cells": [
  {
   "cell_type": "markdown",
   "metadata": {},
   "source": [
    "## 변동성 지수"
   ]
  },
  {
   "cell_type": "code",
   "execution_count": 1,
   "metadata": {},
   "outputs": [],
   "source": [
    "from selenium import webdriver\n",
    "from selenium.webdriver.chrome.options import Options\n",
    "from selenium.webdriver.common.action_chains import ActionChains\n",
    "import time\n",
    "from datetime import datetime\n",
    "import os\n",
    "import glob\n",
    "import numpy as np\n",
    "import pandas as pd\n",
    "\n"
   ]
  },
  {
   "cell_type": "code",
   "execution_count": 4,
   "metadata": {},
   "outputs": [],
   "source": [
    "    delay=20\n",
    "    path=\"C:\\\\Temp\"\n",
    "    options = Options()\n",
    "    #options.add_argument(\"--headless\")\n",
    "    options.add_experimental_option(\"prefs\", {\n",
    "        \"download.default_directory\": path,\n",
    "        \"download.prompt_for_download\": False,\n",
    "    })\n",
    "    \n",
    "    driver = webdriver.Chrome(options=options)\n",
    "    driver.command_executor._commands[\"send_command\"] = (\"POST\", '/session/$sessionId/chromium/send_command')\n",
    "    params = {\n",
    "        'cmd': 'Page.setDownloadBehavior', \n",
    "        'params': {'behavior': 'allow', 'downloadPath': path}\n",
    "    }\n",
    "    command_result = driver.execute(\"send_command\", params)\n",
    "    driver.maximize_window()\n",
    "    driver.implicitly_wait(delay)\n"
   ]
  },
  {
   "cell_type": "code",
   "execution_count": 5,
   "metadata": {},
   "outputs": [],
   "source": [
    "url='http://marketdata.krx.co.kr/mdi#document=030502'\n",
    "driver.get(url)"
   ]
  },
  {
   "cell_type": "code",
   "execution_count": 6,
   "metadata": {},
   "outputs": [
    {
     "name": "stdout",
     "output_type": "stream",
     "text": [
      "http://marketdata.krx.co.kr/contents/MKD/03/0304/03040101/MKD03040101.jsp?idxCd=E055&upmidCd=0202\n"
     ]
    }
   ],
   "source": [
    "    td = driver.find_element_by_xpath('//table//td[text()=\"옵션지수\"]')\n",
    "    link = td.find_element_by_xpath('following-sibling::td[@name=\"idx_nm\"]/a')\n",
    "    if link != None:\n",
    "        print(link.get_attribute('href'))\n"
   ]
  },
  {
   "cell_type": "code",
   "execution_count": 7,
   "metadata": {},
   "outputs": [
    {
     "name": "stdout",
     "output_type": "stream",
     "text": [
      "http://marketdata.krx.co.kr/contents/MKD/03/0304/03040101/MKD03040101.jsp?idxCd=1300&upmidCd=0202\n"
     ]
    }
   ],
   "source": [
    "nlink = driver.find_element_by_link_text(\"코스피 200 변동성지수\")\n",
    "print(nlink.get_attribute('href'))"
   ]
  },
  {
   "cell_type": "code",
   "execution_count": 8,
   "metadata": {},
   "outputs": [],
   "source": [
    "nlink.click()"
   ]
  },
  {
   "cell_type": "code",
   "execution_count": 9,
   "metadata": {},
   "outputs": [
    {
     "name": "stdout",
     "output_type": "stream",
     "text": [
      "http://marketdata.krx.co.kr/contents/MKD/03/0304/03040101/MKD03040101T2.jsp?idxCd=1300&upmidCd=0202\n"
     ]
    }
   ],
   "source": [
    "databtn = driver.find_element_by_link_text(\"데이터\")\n",
    "print (databtn.get_attribute('href'))"
   ]
  },
  {
   "cell_type": "code",
   "execution_count": 10,
   "metadata": {},
   "outputs": [
    {
     "name": "stdout",
     "output_type": "stream",
     "text": [
      "http://marketdata.krx.co.kr/contents/MKD/03/0304/03040101/MKD03040101T2.jsp?idxCd=1300&upmidCd=0202\n"
     ]
    }
   ],
   "source": [
    "    databtn = driver.find_element_by_xpath('//div[@class=\"design-tabs design-tabs-base\"]/ul/li[2]/a')\n",
    "    if databtn != None:\n",
    "        print (databtn.get_attribute('href'))\n"
   ]
  },
  {
   "cell_type": "code",
   "execution_count": 11,
   "metadata": {},
   "outputs": [],
   "source": [
    "databtn.click()"
   ]
  },
  {
   "cell_type": "code",
   "execution_count": 12,
   "metadata": {},
   "outputs": [
    {
     "name": "stdout",
     "output_type": "stream",
     "text": [
      "Excel $.down(this,'xls','formd67d8ab4f4c10bf22aa353e27879133c');return false;\n"
     ]
    }
   ],
   "source": [
    "    excelbtn = driver.find_element_by_xpath('//button[text()=\"Excel\"]')\n",
    "    if excelbtn != None:\n",
    "        print (excelbtn.text, excelbtn.get_attribute('onclick'))\n"
   ]
  },
  {
   "cell_type": "code",
   "execution_count": 13,
   "metadata": {},
   "outputs": [],
   "source": [
    "excelbtn.click()"
   ]
  },
  {
   "cell_type": "code",
   "execution_count": 14,
   "metadata": {},
   "outputs": [],
   "source": [
    "syear = '2019'"
   ]
  },
  {
   "cell_type": "code",
   "execution_count": 15,
   "metadata": {},
   "outputs": [
    {
     "name": "stdout",
     "output_type": "stream",
     "text": [
      "20191110\n"
     ]
    }
   ],
   "source": [
    "input_fromdate = excelbtn.find_element_by_xpath('preceding-sibling::input[@name=\"fromdate\"]')\n",
    "print (input_fromdate.get_attribute('value'))"
   ]
  },
  {
   "cell_type": "code",
   "execution_count": 16,
   "metadata": {},
   "outputs": [
    {
     "name": "stdout",
     "output_type": "stream",
     "text": [
      "20191110\n"
     ]
    }
   ],
   "source": [
    "input_fromdate = driver.find_element_by_name(\"fromdate\")\n",
    "print (input_fromdate.get_attribute('value'))"
   ]
  },
  {
   "cell_type": "code",
   "execution_count": 17,
   "metadata": {},
   "outputs": [
    {
     "name": "stdout",
     "output_type": "stream",
     "text": [
      "20191210\n"
     ]
    }
   ],
   "source": [
    "input_todate = driver.find_element_by_name(\"todate\")\n",
    "print (input_todate.get_attribute('value'))"
   ]
  },
  {
   "cell_type": "code",
   "execution_count": null,
   "metadata": {
    "collapsed": true
   },
   "outputs": [],
   "source": []
  },
  {
   "cell_type": "code",
   "execution_count": 18,
   "metadata": {},
   "outputs": [
    {
     "name": "stdout",
     "output_type": "stream",
     "text": [
      "20190101\n"
     ]
    }
   ],
   "source": [
    "input_fromdate.clear()\n",
    "input_fromdate.send_keys(syear+\"0101\")\n",
    "print (input_fromdate.get_attribute('value'))"
   ]
  },
  {
   "cell_type": "code",
   "execution_count": 19,
   "metadata": {},
   "outputs": [
    {
     "name": "stdout",
     "output_type": "stream",
     "text": [
      "20191210\n"
     ]
    }
   ],
   "source": [
    "input_todate = excelbtn.find_element_by_xpath('preceding-sibling::input[@name=\"todate\"]')\n",
    "print (input_todate.get_attribute('value'))"
   ]
  },
  {
   "cell_type": "code",
   "execution_count": 20,
   "metadata": {},
   "outputs": [
    {
     "name": "stdout",
     "output_type": "stream",
     "text": [
      "20191231\n"
     ]
    }
   ],
   "source": [
    "input_todate.clear()\n",
    "input_todate.send_keys(syear+\"1231\")\n",
    "print (input_todate.get_attribute('value'))"
   ]
  },
  {
   "cell_type": "code",
   "execution_count": 21,
   "metadata": {},
   "outputs": [],
   "source": [
    "excelbtn.click()"
   ]
  },
  {
   "cell_type": "code",
   "execution_count": 22,
   "metadata": {},
   "outputs": [
    {
     "ename": "FileExistsError",
     "evalue": "[WinError 183] 파일이 이미 있으므로 만들 수 없습니다: 'C:\\\\Temp\\\\data.xls' -> 'C:\\\\Temp\\\\vkospi_2019.xls'",
     "output_type": "error",
     "traceback": [
      "\u001b[1;31m---------------------------------------------------------------------------\u001b[0m",
      "\u001b[1;31mFileExistsError\u001b[0m                           Traceback (most recent call last)",
      "\u001b[1;32m<ipython-input-22-8404673522c4>\u001b[0m in \u001b[0;36m<module>\u001b[1;34m\u001b[0m\n\u001b[1;32m----> 1\u001b[1;33m \u001b[0mos\u001b[0m\u001b[1;33m.\u001b[0m\u001b[0mrename\u001b[0m\u001b[1;33m(\u001b[0m\u001b[0mos\u001b[0m\u001b[1;33m.\u001b[0m\u001b[0mpath\u001b[0m\u001b[1;33m.\u001b[0m\u001b[0mjoin\u001b[0m\u001b[1;33m(\u001b[0m\u001b[0mpath\u001b[0m\u001b[1;33m,\u001b[0m \u001b[1;34m\"data.xls\"\u001b[0m\u001b[1;33m)\u001b[0m\u001b[1;33m,\u001b[0m \u001b[0mos\u001b[0m\u001b[1;33m.\u001b[0m\u001b[0mpath\u001b[0m\u001b[1;33m.\u001b[0m\u001b[0mjoin\u001b[0m\u001b[1;33m(\u001b[0m\u001b[0mpath\u001b[0m\u001b[1;33m,\u001b[0m \u001b[1;34m\"vkospi_%s.xls\"\u001b[0m\u001b[1;33m%\u001b[0m\u001b[0msyear\u001b[0m\u001b[1;33m)\u001b[0m\u001b[1;33m)\u001b[0m\u001b[1;33m\u001b[0m\u001b[1;33m\u001b[0m\u001b[0m\n\u001b[0m",
      "\u001b[1;31mFileExistsError\u001b[0m: [WinError 183] 파일이 이미 있으므로 만들 수 없습니다: 'C:\\\\Temp\\\\data.xls' -> 'C:\\\\Temp\\\\vkospi_2019.xls'"
     ]
    }
   ],
   "source": [
    "os.rename(os.path.join(path, \"data.xls\"), os.path.join(path, \"vkospi_%s.xls\"%syear))"
   ]
  },
  {
   "cell_type": "code",
   "execution_count": null,
   "metadata": {
    "collapsed": true
   },
   "outputs": [],
   "source": []
  }
 ],
 "metadata": {
  "anaconda-cloud": {},
  "kernelspec": {
   "display_name": "Python 3",
   "language": "python",
   "name": "python3"
  },
  "language_info": {
   "codemirror_mode": {
    "name": "ipython",
    "version": 3
   },
   "file_extension": ".py",
   "mimetype": "text/x-python",
   "name": "python",
   "nbconvert_exporter": "python",
   "pygments_lexer": "ipython3",
   "version": "3.6.8"
  }
 },
 "nbformat": 4,
 "nbformat_minor": 2
}
